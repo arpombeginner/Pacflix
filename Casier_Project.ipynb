{
 "cells": [
  {
   "cell_type": "code",
   "execution_count": 9,
   "id": "ef29d60b",
   "metadata": {},
   "outputs": [],
   "source": [
    "import numpy as np\n",
    "\n",
    "transaction = {}\n",
    "\n",
    "class Transaction():\n",
    "    \n",
    "    def __init__(self):\n",
    "        \n",
    "        self.transaction = transaction\n",
    "        \n",
    "    \n",
    "    def add_item(self, nama_item, jumlah_item, harga_item):\n",
    "        self.nama_item = nama_item\n",
    "        self.jumlah_item =jumlah_item\n",
    "        self.harga_item = harga_item\n",
    "        \n",
    "        self.transaction = {self.nama_item: [self.jumlah_item, self.harga_item]}\n",
    "        \n",
    "        print(self.transaction)\n",
    "    \n",
    "    \n",
    "    \n",
    "    def update_item_nama(self, nama_item, nama_item_baru):\n",
    "        \n",
    "        self.nama_item = nama_item\n",
    "        self.nama_item_baru = nama_item_baru\n",
    "        \n",
    "        nama_baru = self.transaction[self.nama_item]\n",
    "        \n",
    "        self.transaction.pop(self.nama_item) \n",
    "        \n",
    "        self.transaction.update({nama_item_baru: nama_baru})       \n",
    "        \n",
    "        print(f\"Nama Item {nama_item} telah diganti menjadi {nama_item_baru}\")\n",
    "    \n",
    "    \n",
    "    \n",
    "    def update_item_qty(self,nama_item,jumlah_item_baru):\n",
    "        self.nama_item = nama_item\n",
    "        self.jumlah_item_baru = jumlah_item_baru\n",
    "        \n",
    "        self.transaction[nama_item][0]= self.jumlah_item_baru\n",
    "        print(f\"Jumlah Pesanan terhadap barang {nama_item} telah diubah menjadi {jumlah_item_baru} \")\n",
    "      \n",
    "    \n",
    "    \n",
    "    \n",
    "    \n",
    "    def update_item_price(self, nama_item, harga_item_baru):\n",
    "        self.nama_item = nama_item\n",
    "        self.harga_item_baru = harga_item_baru\n",
    "        \n",
    "        self.transaction[nama_item][1] = harga_item_baru\n",
    "        \n",
    "        print(f\"Harga Pesanan terhadap barang {nama_item} telah diubah menjadi {harga_item_baru} \")\n",
    "      \n",
    "    \n",
    "    \n",
    "    \n",
    "    def delete_item(self, nama_item):\n",
    "        self.nama_item = nama_item\n",
    "        self.transaction.clear\n",
    "        \n",
    "        print(f\"Transaksi untuk Pesanana {nama_item} telah dihapus\")\n",
    "        \n",
    "    \n",
    "    \n",
    "    \n",
    "    def check_order(self):\n",
    "        \n",
    "        for key, values in transaction.items():\n",
    "                                 \n",
    "            self.nama_item= key\n",
    "            self.jumlah_item = values[0]\n",
    "            self.harga_item = values[1]\n",
    "            \n",
    "            \n",
    "        \n",
    "        if type(self.nama_item) != str and jumlah_item != int and harga_item:\n",
    "            print(\"Terdapat Kesalahan input data \\n\"\n",
    "                  \"Masukkan Nama Barang dengan huruf misal; Motor, Ayam,..\\n\"\n",
    "                  \"Masukkan Jumlah dari barang menggunakan angka misal; 1, 2,..\" )\n",
    "        else:\n",
    "            print(\"Pemesanan Sudah Benar\")\n",
    "    \n",
    "    def display_order(self):\n",
    "        \n",
    "         # Absolute variable for discount rate\n",
    "        DISKON_200000 = 5/100\n",
    "        DISKON_300000 = 8/100\n",
    "        DISKON_500000 = 10/100\n",
    "        \n",
    "        \n",
    "        # Utilised loop to display all of the groceries item stored in the dictionary\n",
    "        display_transact = [i for i in self.transaction.items()] \n",
    "        \n",
    "        # Utilised loop to perform multiplication on multiple values in one key, and using sum to calculate the total transaction\n",
    "        for key, values in self.transaction.items():\n",
    "            self.transaction[key] = np.prod(values)\n",
    "            total_belanja = sum(self.transaction.values())\n",
    "        \n",
    "        # Utilised branching to determine the discount rate and therefore calculate the total transaction after discount\n",
    "        if total_belanja > 200_000 and total_belanja <= 300_000:\n",
    "            total_belanja_setelah_diskon = total_belanja - (total_belanja * DISKON_200000)\n",
    "        elif total_belanja > 300_000 and total_belanja <= 500_000:\n",
    "            total_belanja_setelah_diskon = total_belanja - (total_belanja * DISKON_300000)\n",
    "        elif total_belanja > 500_000:\n",
    "            total_belanja_setelah_diskon = total_belanja - (total_belanja * DISKON_500000)\n",
    "        else:\n",
    "            total_belanja_setelah_diskon = total_belanja\n",
    "        \n",
    "        print(f\" Item yang dibeli adalah: {display_transact} \\n Total belanja yang harus dibayarkan adalah Rp. {total_belanja} \\n Total belanja yang harus dibayarkan setelah diskon adalah Rp. {total_belanja_setelah_diskon}\")\n",
    "        \n",
    "        "
   ]
  },
  {
   "cell_type": "code",
   "execution_count": 10,
   "id": "3cd6e784",
   "metadata": {},
   "outputs": [
    {
     "name": "stdout",
     "output_type": "stream",
     "text": [
      "{'Mobil': [2, 2000]}\n",
      "{'Kereta': [2, 4000]}\n",
      "{'Tempe': [4, 5000]}\n",
      " Item yang dibeli adalah: [('Tempe', [4, 5000])] \n",
      " Total belanja yang harus dibayarkan adalah Rp. 20000 \n",
      " Total belanja yang harus dibayarkan setelah diskon adalah Rp. 20000\n"
     ]
    }
   ],
   "source": [
    "transac123 = Transaction()\n",
    "transac123.add_item('Mobil',2, 2000)\n",
    "transac123.add_item(\"Kereta\",2,4000)\n",
    "transac123.add_item(\"Tempe\",4,5000)\n",
    "transac123.display_order()\n",
    "\n"
   ]
  },
  {
   "cell_type": "code",
   "execution_count": 11,
   "id": "e97dc361",
   "metadata": {},
   "outputs": [
    {
     "name": "stdout",
     "output_type": "stream",
     "text": [
      " Item yang dibeli adalah: [('Tempe', 20000)] \n",
      " Total belanja yang harus dibayarkan adalah Rp. 20000 \n",
      " Total belanja yang harus dibayarkan setelah diskon adalah Rp. 20000\n"
     ]
    }
   ],
   "source": [
    "transac123.display_order()"
   ]
  },
  {
   "cell_type": "code",
   "execution_count": 6,
   "id": "8f24b8ab",
   "metadata": {},
   "outputs": [
    {
     "ename": "SyntaxError",
     "evalue": "EOL while scanning string literal (3914314157.py, line 1)",
     "output_type": "error",
     "traceback": [
      "\u001b[1;36m  Input \u001b[1;32mIn [6]\u001b[1;36m\u001b[0m\n\u001b[1;33m    print(f\"Harga dari Pesanan Anda sebesar : Rp. {total} \\n Selamat pesanan melebihi Rp. 200.000 dan anda mendapatkan DISKON 5%, \\n\u001b[0m\n\u001b[1;37m                                                                                                                                    ^\u001b[0m\n\u001b[1;31mSyntaxError\u001b[0m\u001b[1;31m:\u001b[0m EOL while scanning string literal\n"
     ]
    }
   ],
   "source": [
    "print(f\"Harga dari Pesanan Anda sebesar : Rp. {total} \\n Selamat pesanan melebihi Rp. 200.000 dan anda mendapatkan DISKON 5%, \\n\n",
    "                     Anda Cukup Membayar sebesar {harga_setelah_diskon}\")"
   ]
  },
  {
   "cell_type": "code",
   "execution_count": null,
   "id": "21e94eae",
   "metadata": {},
   "outputs": [],
   "source": [
    "a "
   ]
  }
 ],
 "metadata": {
  "kernelspec": {
   "display_name": "Python 3 (ipykernel)",
   "language": "python",
   "name": "python3"
  },
  "language_info": {
   "codemirror_mode": {
    "name": "ipython",
    "version": 3
   },
   "file_extension": ".py",
   "mimetype": "text/x-python",
   "name": "python",
   "nbconvert_exporter": "python",
   "pygments_lexer": "ipython3",
   "version": "3.9.12"
  }
 },
 "nbformat": 4,
 "nbformat_minor": 5
}
